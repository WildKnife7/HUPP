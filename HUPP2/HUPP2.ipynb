{
 "cells": [
  {
   "cell_type": "markdown",
   "id": "e8863bbd-628d-4e31-b097-3bdebd7726c9",
   "metadata": {},
   "source": [
    "**<span style=\"color:red\">Namn och CID på gruppmedlemmar: </span>**\n",
    "\n",
    "FYLL I HÄR\n"
   ]
  },
  {
   "cell_type": "code",
   "execution_count": 99,
   "id": "260d6726-c7b6-4a1c-9eb8-8321dd3b1a1c",
   "metadata": {},
   "outputs": [],
   "source": [
    "import numpy as np\n",
    "import matplotlib.pyplot as plt\n",
    "plt.style.use(\"ggplot\")"
   ]
  },
  {
   "cell_type": "markdown",
   "id": "f4bfd631-78c3-4467-bf7c-e59615bdb269",
   "metadata": {},
   "source": [
    "# Uppgift 1 - 3D-bio"
   ]
  },
  {
   "cell_type": "markdown",
   "id": "b8b47a0b-2dd9-422e-b323-ac445ed7b07e",
   "metadata": {},
   "source": [
    "#### **(a)** Skriv en kort funktion $J_{proj}(𝛼)$, som ger Jones-matrisen som projicerar $E$-fältets komponenter på ett koordinatsystem vridet vinkeln $𝛼$\n"
   ]
  },
  {
   "cell_type": "code",
   "execution_count": 100,
   "id": "0822a106-242b-4d72-a391-0e5c89bf6c0e",
   "metadata": {},
   "outputs": [],
   "source": [
    "# Byt ut np.nan värdena så att det blir rätt!\n",
    "def J_proj(alpha):\n",
    "    return np.array([[np.cos(alpha), np.sin(alpha)],\n",
    "                     [-np.sin(alpha), np.cos(alpha)]])\n"
   ]
  },
  {
   "cell_type": "markdown",
   "id": "4e3ca35a",
   "metadata": {},
   "source": [
    "#### **(b)** Skriv de två korta funktionerna $J_{pol}(𝛼)$, som genererar Jones-matrisen för en roterad polarisator med transmissionsriktningen vinkeln $𝛼$ från $x$-axeln, samt $J_{ret}(𝛼,𝜑)$ som ger Jones-matrisen för en roterad ”retarder” med fasförskjutningen $𝜑$ radianer (en kvartsvågsplatta har alltså $𝜑=𝜋/2$) och eo-riktningen vinkeln $𝛼$ från $x$-axeln. Utnyttja funktionen $J_{proj}(𝛼)$.\n"
   ]
  },
  {
   "cell_type": "code",
   "execution_count": 101,
   "id": "e3a2e217-9f23-4561-9c6a-11c940561e20",
   "metadata": {},
   "outputs": [],
   "source": [
    "def J_pol(alpha):\n",
    "    return J_proj(-alpha)@np.array([[1, 0],[0, 0]])@J_proj(alpha)\n",
    "\n",
    "def J_ret(alpha, phi): \n",
    "    return np.matmul(J_proj(-alpha), np.array([[np.exp(1j*phi), 0],[0, 1]]))@J_proj(alpha)"
   ]
  },
  {
   "cell_type": "markdown",
   "id": "56c4cdb6-a5cf-417e-905e-1dac0432fe68",
   "metadata": {},
   "source": [
    "#### **(c)** Relatera $E^{ut}$ till $E^{in}$ för de fyra olika fallen. Beräkna även $I^{ut}$ och visa att inget ljus kommer fram i fall (ii) och (iii), medan hela $E^{in}$:s amplitud finns kvar vid observatörens öga i fall (i) och (iv)."
   ]
  },
  {
   "cell_type": "code",
   "execution_count": 102,
   "id": "5d7c3fae-0023-41c2-a7a8-f6e5bfc38996",
   "metadata": {},
   "outputs": [
    {
     "name": "stdout",
     "output_type": "stream",
     "text": [
      "1.0000000000000009 [1.11022302e-16+1.j 0.00000000e+00+0.j]\n"
     ]
    }
   ],
   "source": [
    "# (i) R→R\n",
    "E1_ut = J_pol(0)@J_ret(-np.pi/4,np.pi/2)@J_ret(np.pi/4,np.pi/2)@np.array([1,0])\n",
    "I1_ut = np.linalg.norm(E1_ut)**2\n",
    "print(I1_ut, E1_ut)"
   ]
  },
  {
   "cell_type": "code",
   "execution_count": 103,
   "id": "43fd232c-0383-4e39-86dc-a97d3c89ea03",
   "metadata": {},
   "outputs": [
    {
     "name": "stdout",
     "output_type": "stream",
     "text": [
      "2.4651903288156624e-32 [-1.11022302e-16+1.11022302e-16j  0.00000000e+00+0.00000000e+00j]\n"
     ]
    }
   ],
   "source": [
    "# (ii) R→L\n",
    "E2_ut = J_pol(0)@J_ret(np.pi/4,np.pi/2)@J_ret(np.pi/4,np.pi/2)@np.array([1,0])\n",
    "I2_ut = np.linalg.norm(E2_ut)**2\n",
    "print(I2_ut, E2_ut)\n"
   ]
  },
  {
   "cell_type": "code",
   "execution_count": 104,
   "id": "2f98a84b-0513-4854-aec5-4a8a5e981ba7",
   "metadata": {},
   "outputs": [
    {
     "name": "stdout",
     "output_type": "stream",
     "text": [
      "2.4651903288156624e-32 [-1.11022302e-16+1.11022302e-16j  0.00000000e+00+0.00000000e+00j]\n"
     ]
    }
   ],
   "source": [
    "# (iii) L→R\n",
    "E3_ut = J_pol(0)@J_ret(-np.pi/4,np.pi/2)@J_ret(-np.pi/4,np.pi/2)@np.array([1,0])\n",
    "I3_ut = np.linalg.norm(E3_ut)**2\n",
    "print(I3_ut, E3_ut)\n"
   ]
  },
  {
   "cell_type": "code",
   "execution_count": 105,
   "id": "61a93bf6-3899-40ff-9664-0765f77b57cc",
   "metadata": {},
   "outputs": [
    {
     "name": "stdout",
     "output_type": "stream",
     "text": [
      "1.0000000000000009 [1.11022302e-16+1.j 0.00000000e+00+0.j]\n"
     ]
    }
   ],
   "source": [
    "# (iv) L→L\n",
    "E4_ut = J_pol(0)@J_ret(-np.pi/4,np.pi/2)@J_ret(np.pi/4,np.pi/2)@np.array([1,0])\n",
    "I4_ut = np.linalg.norm(E4_ut)**2\n",
    "print(I4_ut, E4_ut)\n"
   ]
  },
  {
   "cell_type": "markdown",
   "id": "d2c218c2-b4ae-4723-88f0-4a5fe2043a41",
   "metadata": {},
   "source": [
    "#### **(d)** Tyvärr är inte kvartsvåglängdsplattan våglängdsoberoende i verkligheten, utan fungerar bara perfekt för en våglängd i mitten av det synliga spektrumet. Antag att för en våglängd i kanten av det synliga området så avviker fasförskjutningen med $25$% (välj själv åt vilket håll) från den perfekta $𝜋/2$, för alla kvartsvågsplattorna. Hur mycket av den oönskade bilden – den som tidigare var svart – ser man nu?\n"
   ]
  },
  {
   "cell_type": "code",
   "execution_count": 106,
   "id": "d818b81e-61c4-4a89-923e-b81775191e04",
   "metadata": {},
   "outputs": [
    {
     "name": "stdout",
     "output_type": "stream",
     "text": [
      "1.0000000000000004 [-0.38268343+0.92387953j  0.        +0.j        ]\n"
     ]
    }
   ],
   "source": [
    "# (i) R→R\n",
    "# (i) R→R\n",
    "E1_ut = J_pol(0)@J_ret(-np.pi/4,5*np.pi/8)@J_ret(np.pi/4,5*np.pi/8)@np.array([1,0])\n",
    "I1_ut = np.linalg.norm(E1_ut)**2\n",
    "print(I1_ut, E1_ut)"
   ]
  },
  {
   "cell_type": "code",
   "execution_count": 107,
   "id": "ddad5dbe-7aab-4488-82d9-a30192b96d45",
   "metadata": {},
   "outputs": [
    {
     "name": "stdout",
     "output_type": "stream",
     "text": [
      "0.14644660940672638 [0.14644661-0.35355339j 0.        +0.j        ]\n"
     ]
    }
   ],
   "source": [
    "# (ii) R→L\n",
    "# (ii) R→L\n",
    "E2_ut = J_pol(0)@J_ret(np.pi/4,5*np.pi/8)@J_ret(np.pi/4,5*np.pi/8)@np.array([1,0])\n",
    "I2_ut = np.linalg.norm(E2_ut)**2\n",
    "print(I2_ut, E2_ut)\n",
    "\n",
    "\n"
   ]
  },
  {
   "cell_type": "code",
   "execution_count": 108,
   "id": "8345fa30-b3f7-476b-9e80-df6f1b1ff725",
   "metadata": {},
   "outputs": [
    {
     "name": "stdout",
     "output_type": "stream",
     "text": [
      "0.14644660940672638 [0.14644661-0.35355339j 0.        +0.j        ]\n"
     ]
    }
   ],
   "source": [
    "# (iii) L→R\n",
    "E3_ut = J_pol(0)@J_ret(-np.pi/4,5*np.pi/8)@J_ret(-np.pi/4,5*np.pi/8)@np.array([1,0])\n",
    "I3_ut = np.linalg.norm(E3_ut)**2\n",
    "print(I3_ut, E3_ut)\n",
    "\n"
   ]
  },
  {
   "cell_type": "code",
   "execution_count": 109,
   "id": "dd2a5bec-3b3d-442f-985b-ed46fdb53332",
   "metadata": {},
   "outputs": [
    {
     "name": "stdout",
     "output_type": "stream",
     "text": [
      "1.0000000000000004 [-0.38268343+0.92387953j  0.        +0.j        ]\n"
     ]
    }
   ],
   "source": [
    "# (iv) L→L\n",
    "E4_ut = J_pol(0)@J_ret(-np.pi/4,5*np.pi/8)@J_ret(np.pi/4,5*np.pi/8)@np.array([1,0])\n",
    "I4_ut = np.linalg.norm(E4_ut)**2\n",
    "print(I4_ut, E4_ut)\n",
    "\n"
   ]
  },
  {
   "cell_type": "markdown",
   "id": "36c4308f-d666-4bf6-8c34-e38ad824fa36",
   "metadata": {},
   "source": [
    "#### **(e)** En spökbild, som den oönskade bilden i (d), är inte alls bra för 3D-upplevelsen. Som tur är finns det en mirakulöst enkel lösning på detta problem, som visas i figuren nedan: rotera glasen vid papperslapparna 90°! Visa att detta system inte ger någon spökbild alls, trots en felaktig fasförskjutning så hög som $25$%. Ett litet pris får man dock betala för detta, vilket?"
   ]
  },
  {
   "cell_type": "code",
   "execution_count": 131,
   "id": "74bcbba8-b0ed-4a30-a84f-72200f0de306",
   "metadata": {},
   "outputs": [
    {
     "name": "stdout",
     "output_type": "stream",
     "text": [
      "R till R: 0.8535533905932742 [-0.85355339-0.35355339j  0.        +0.j        ]\n",
      "6.216093914885078e-35 [-7.8842209e-18+0.j  0.0000000e+00+0.j]\n",
      "6.216093914885078e-35 [7.8842209e-18+0.j 0.0000000e+00+0.j]\n",
      "0.8535533905932742 [0.85355339+0.35355339j 0.        +0.j        ]\n"
     ]
    }
   ],
   "source": [
    "# kod\n",
    "# (i) R→R\n",
    "Ein_roterad = np.array([0,1])\n",
    "\n",
    "E1_ut = J_pol(0)@J_ret(np.pi/4,5*np.pi/8)@J_ret(np.pi/4,5*np.pi/8)@Ein_roterad\n",
    "I1_ut = np.linalg.norm(E1_ut)**2\n",
    "print(\"R till R:\", I1_ut, E1_ut)\n",
    "\n",
    "# (ii) R→L\n",
    "E2_ut = J_pol(0)@J_ret(np.pi/4,5*np.pi/8)@J_ret(-np.pi/4,5*np.pi/8)@Ein_roterad\n",
    "I2_ut = np.linalg.norm(E2_ut)**2\n",
    "print(I2_ut, E2_ut)\n",
    "\n",
    "# (iii) L→R\n",
    "E3_ut = J_pol(0)@J_ret(-np.pi/4,5*np.pi/8)@J_ret(np.pi/4,5*np.pi/8)@Ein_roterad\n",
    "I3_ut = np.linalg.norm(E3_ut)**2\n",
    "print(I3_ut, E3_ut)\n",
    "\n",
    "# (iv) L→L\n",
    "E4_ut = J_pol(0)@J_ret(-np.pi/4,5*np.pi/8)@J_ret(-np.pi/4,5*np.pi/8)@Ein_roterad\n",
    "I4_ut = np.linalg.norm(E4_ut)**2\n",
    "print(I4_ut, E4_ut)"
   ]
  },
  {
   "cell_type": "markdown",
   "id": "5bcc4248-2f8c-420e-bfeb-06a8de5978fe",
   "metadata": {},
   "source": []
  },
  {
   "cell_type": "markdown",
   "id": "e9fcfcd0-2a2e-489a-8d48-05bec63c2c8b",
   "metadata": {},
   "source": [
    "# Uppgift 2 - Bildskärmen\n"
   ]
  },
  {
   "cell_type": "markdown",
   "id": "61621aa5-36c8-430b-8401-1f59736c2990",
   "metadata": {},
   "source": [
    "#### **(a)** Skriv en funktion som genererar Jones-matrisen för den $n$-te roterade tunna skivan, $J_{ret2}(𝛼_n, 𝛿, n_{eo,\\theta}, n_O, 𝜆)$ där $n_{eo,\\theta} = n_{eo}(𝜃)$ för den aktuella tiltvinkeln och $𝜆$ är (vakuum-)våglängden för ljuset som passerat färgfiltret. Använd $𝐽_{proj}(𝛼)$ från föregående uppgift."
   ]
  },
  {
   "cell_type": "code",
   "execution_count": 111,
   "id": "c023c959-5325-462d-aa5d-517126aa0811",
   "metadata": {},
   "outputs": [],
   "source": [
    "def J_ret2(alpha, delta, ne0, n0, lam):\n",
    "    pass"
   ]
  },
  {
   "cell_type": "markdown",
   "id": "b2da019b-7a01-494a-a33d-dd3c8adf6d79",
   "metadata": {},
   "source": [
    "#### **(b)** Med hjälp av funktionen $J_{ret2}(𝛼_n, 𝛿, n_{eo,\\theta}, n_O, 𝜆)$ samt $𝐽_{pol}(𝛼)$ från föregående uppgift, skriv kod som beräknar Jones-matrisen som relaterar $E^{ut}$ och $E^{in}$ enligt figuren i uppgiftsbeskrivningen.\n",
    "\n",
    "Gör detta för ett antal olika värden på tiltvinkeln $𝜃$ och plotta intensiteten på det ljus som kommer utfrån pixeln (efter högra polarisatorn) som funktion av $𝜃$. I plotten, markera vilket värde på $𝜃$ som svarar mot $0$V spänning respektive hög spänning. Är det alltså möjligt att erhålla en kontinuerlig modulation av intensiteten mellan $0$ och $100$% för alla färger med denna LC skärm?"
   ]
  },
  {
   "cell_type": "code",
   "execution_count": 112,
   "id": "2747b3aa-65e8-4a26-ab0d-bbf24cffe5e1",
   "metadata": {},
   "outputs": [],
   "source": [
    "n0 = 1.5\n",
    "ne0 = 1.6\n",
    "d = 20e-6\n",
    "lam_r = 633e-9\n",
    "lam_g = 549e-9\n",
    "lam_b = 432e-9\n",
    "N = 50"
   ]
  },
  {
   "cell_type": "markdown",
   "id": "9aa08532-4c41-46b7-a666-9a5787379f7c",
   "metadata": {},
   "source": [
    "#### **(c)** Hur ser alltså en ”död” pixel ut, d.v.s. en pixel som det, p.g.a. tillverkningsfel, inte går att lägga spänning över?"
   ]
  },
  {
   "cell_type": "markdown",
   "id": "426c7872-26ef-42a2-88e4-30b6a3734cfa",
   "metadata": {},
   "source": []
  },
  {
   "cell_type": "markdown",
   "id": "88304627-6812-47b7-a20f-7a7d3666ffd5",
   "metadata": {},
   "source": [
    "#### **(d)** Hur tunt kan vätskekristallskiktet göras? Med andra ord, hur liten kan $𝑑$ vara under förutsättning att vi fortfarande vill kunna modulera utintensiteten mellan $0$ och $100$% genom att ändra tiltvinkeln mellan $0$ och $90°$. Att ha ett litet värde på $𝑑$ är viktigt eftersom detta ökar snabbheten i ändringen av tiltvinkel så att displayen kan visa snabba bildsekvenser."
   ]
  },
  {
   "cell_type": "markdown",
   "id": "ffb93be3-d5d9-4ea1-84c9-7151fcc76792",
   "metadata": {},
   "source": []
  }
 ],
 "metadata": {
  "kernelspec": {
   "display_name": "Python 3",
   "language": "python",
   "name": "python3"
  },
  "language_info": {
   "codemirror_mode": {
    "name": "ipython",
    "version": 3
   },
   "file_extension": ".py",
   "mimetype": "text/x-python",
   "name": "python",
   "nbconvert_exporter": "python",
   "pygments_lexer": "ipython3",
   "version": "3.11.9"
  }
 },
 "nbformat": 4,
 "nbformat_minor": 5
}
