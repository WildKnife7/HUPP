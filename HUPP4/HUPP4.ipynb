{
 "cells": [
  {
   "cell_type": "markdown",
   "id": "e8863bbd-628d-4e31-b097-3bdebd7726c9",
   "metadata": {},
   "source": [
    "**<span style=\"color:red\">Namn och CID på gruppmedlemmar: </span>**\n",
    "\n",
    "FYLL I HÄR\n"
   ]
  },
  {
   "cell_type": "code",
   "execution_count": null,
   "id": "260d6726-c7b6-4a1c-9eb8-8321dd3b1a1c",
   "metadata": {},
   "outputs": [],
   "source": [
    "import numpy as np\n",
    "from numpy.matlib import repmat # Vi lånar funktionen repmat från matlib\n",
    "from scipy import constants # Scipy constants innehåller alla möjliga fysikaliska konstanter\n",
    "c = constants.speed_of_light # Vi använder det för att importera ljusets hastighet\n",
    "import matplotlib.pyplot as plt\n",
    "plt.style.use(\"ggplot\")\n"
   ]
  },
  {
   "cell_type": "code",
   "execution_count": null,
   "id": "7d46f74c-9ed8-439e-9f80-1e32ecfc2691",
   "metadata": {},
   "outputs": [],
   "source": [
    "# Funktioner för HUPP:en\n",
    "\n",
    "def xy_source(N, D_star, seperation):\n",
    "    '''\n",
    "        \n",
    "    N:          Antalet observationspunkter (punkter längs u-axeln där fältet beräknas)\n",
    "    D_star:     Stjärnans diameter [m]\n",
    "    separation: Avstånd mellan punktkällorna på stjärnan [m],\n",
    "                kan lämpligen anges som bråkdel av D_star, \n",
    "                t.ex. separation=D_star/30\n",
    "        \n",
    "    x: matris med punktkällornas x-positioner [m] \n",
    "    y: matris med punktkällornas y-positioner [m]\n",
    "    M: punktkällornas antal\n",
    "    \n",
    "    '''\n",
    "\n",
    "    x = np.arange(-D_star/2, D_star/2 + seperation, seperation) # Vektor med källpunkter i x-led\n",
    "    y = x                                                       # och i y-led\n",
    "    \n",
    "    X, Y = np.meshgrid(x, y)                                    \n",
    "    R    = np.sqrt(X**2 + Y**2)                                 # Längd från origo till källpunkter\n",
    "    \n",
    "    element_inuti_diameter = R < (D_star/2)                     # Element innanför D_star\n",
    "\n",
    "    x = X[element_inuti_diameter]                               # Plocka ut x-koordinater som är innanför D_star\n",
    "    y = Y[element_inuti_diameter]                               # och plocka ut y-koordinater\n",
    "\n",
    "    M = np.sum(element_inuti_diameter)                          # Totalt antal källor innanför D_star\n",
    "    \n",
    "    return (x, y, M)\n",
    "\n",
    "def plot_xy_source(x ,y, M):\n",
    "    '''\n",
    "    Skapar en figur som visar hur xy-source är placerade\n",
    "\n",
    "    '''\n",
    "    theta = np.linspace(0, 2*np.pi, 100)                      # Rita en cirkel med diameter D_star\n",
    "    x_circumference = D_star/2*np.cos(theta)\n",
    "    y_circumference = D_star/2*np.sin(theta)\n",
    "    \n",
    "    \n",
    "    miljon_km = 1e6*1e3                                       # Skala om axlar till miljoner km\n",
    "    \n",
    "    x_miljon_km = x/miljon_km\n",
    "    y_miljon_km = y/miljon_km\n",
    "    \n",
    "    x_circumference_miljon_km = x_circumference/miljon_km\n",
    "    y_circumference_miljon_km = y_circumference/miljon_km\n",
    "    \n",
    "    plt.figure()\n",
    "    plt.axis('equal')\n",
    "    \n",
    "    plt.plot(x_circumference_miljon_km, y_circumference_miljon_km, 'black')\n",
    "    plt.plot(x_miljon_km, y_miljon_km, 'ro', markersize=1.4)\n",
    "    \n",
    "    plt.title(r'Källpositioner på stjärna. Antal källor M = ' + str(M))\n",
    "    plt.xlabel('x [miljoner km]')\n",
    "    plt.ylabel('y [miljoner km]')"
   ]
  },
  {
   "cell_type": "markdown",
   "id": "f4bfd631-78c3-4467-bf7c-e59615bdb269",
   "metadata": {},
   "source": [
    "# Uppgift a\n",
    "\n",
    "#### Beräkna korrelationen $Γ_{AB}(𝑢)$ för positioner hos punkt $B$ från $𝑢=0$ upp till $𝑢=20$ meter."
   ]
  },
  {
   "cell_type": "code",
   "execution_count": null,
   "id": "9140dc98-cb61-4a87-9722-f9a5fc94035c",
   "metadata": {},
   "outputs": [],
   "source": [
    "#%% Definiera variabler och generera källor %%#\n",
    "\n",
    "sek_per_ar = 365.24*24*60*60                            # Sekunder på ett år\n",
    "L_70  = 70*sek_per_ar*c                                 # 70 ljusår  [m]\n",
    "L_300 = 300*sek_per_ar*c                                # 300 ljusår [m]\n",
    "\n",
    "lam0  = 650e-9                                          # Våglängd [m]\n",
    "k0    = 2*np.pi/lam0                                    # Vågtal   [1/m]\n",
    "\n",
    "### Genererar källor från stjärna ###\n",
    "D_sol         = 1392700e3\n",
    "D_star        = 45*D_sol                                # Stjärnas diameter [m]\n",
    "separation    = D_star/30                               # Separation mellan källor på stjärna\n",
    "\n",
    "N = .x.                                                 # Punkter längs u-axeln\n",
    "x, y, M = xy_source(N, D_star, separation)              # Generera x och y positioner för källor\n",
    "plot_xy_source(x ,y, M)                                 # Plotta stjärna med källor\n",
    "\n",
    "### Punkter som observeras ###\n",
    "u = np.linspace(0, 20, N)   \n",
    "u = u.reshape(N, 1)                                     # Reshape till kolonvektor\n",
    "\n",
    "### Skapa repeterade matriser för att undvika loopar ###\n",
    "x_repeterad = repmat(x, N, 1)\n",
    "y_repeterad = repmat(y, N, 1)                      \n",
    "u_repeterad = repmat(u, 1, M)  \n",
    "\n",
    "### Distans till observations punkter ###\n",
    "r = .x.                                                 # Ledning finns i HUPP-beskrivning \n",
    "\n",
    "#%% Summera koherenstider %##\n",
    "### Initiera variabler ###\n",
    "gamma   = 0                # Korrelation <E(0,0)conj(E(u,0))>\n",
    "I_tot   = 0                # Tidsmedelvärdesbildad intensitet\n",
    "gamma_I = 0                # Intensitetskorrelation <I(0,0)conj(I(u,0))>\n",
    "\n",
    "### Loopa över w koherenstider ###\n",
    "iterationer = .x.          # Antal iterationer/koherenstider. Använda >200 minst!\n",
    "for i in range(iterationer):\n",
    "    ### Generera slumpmässig fas ###\n",
    "    fas           = 2*np.pi*np.random.rand(M, 1)\n",
    "    fas_repeterad = np.transpose(repmat(fas, 1, N))\n",
    "    \n",
    "    ### Observerade värden ###\n",
    "    E_k_obs       = .x.        # Given i HUPP-beskrivning\n",
    "    E_obs         = .x.        # Given i HUPP-beskrivning\n",
    "    inst_produkt  = .x.        # Given i HUPP-beskrivning\n",
    "    \n",
    "    gamma         = .x.        # E-fältets korrelation (amplitud o fas), summera inst_produkt i varje iteration!\n",
    "    I_tot         = .x.        # Tidsmedelvärdesbildad intensitet, summera np.abs(E_obs)**2 över alla koherenstider\n",
    "    gamma_I       = .x.        # Intensitetskorrelation, samma som Gamma fast med I = np.abs(E_obs(1))**2 och np.abs(E_obs)**2"
   ]
  },
  {
   "cell_type": "code",
   "execution_count": null,
   "id": "bc5c12e3-9ceb-4c09-bf28-da717dd99db2",
   "metadata": {},
   "outputs": [],
   "source": [
    "gamma_norm = np.abs(gamma/np.max(gamma))\n",
    "\n",
    "plt.figure()\n",
    "plt.plot(u, gamma_norm)\n",
    "plt.title(r'Korrelation (E-fält) efter ' + str(iterationer) + ' iterationer/koherenstider')\n",
    "plt.xlabel (r'Avstånd längs u-axeln [m]')\n",
    "plt.ylabel(r'|\\Gamma_{AB}| [arb. unit]')\n",
    "\n",
    "gamma_I_norm = np.abs(gamma_I/np.max(gamma_I))\n",
    "\n",
    "plt.figure()\n",
    "plt.plot(u, gamma_I)\n",
    "plt.title('Intensitetskorrelation efter ' + str(iterationer) + ' iterationer/koherenstider' )\n",
    "plt.xlabel ('Avstånd längs u-axeln [m]')\n",
    "plt.ylabel('|\\Gamma_{I}| [arb. unit]')"
   ]
  },
  {
   "cell_type": "markdown",
   "id": "b8b47a0b-2dd9-422e-b323-ac445ed7b07e",
   "metadata": {},
   "source": [
    "# Uppgift b\n",
    "\n",
    "####  Som en ”sanity check”, beräkna också intensiteten, i vanlig mening, i observationspunkterna (sånär som på en ointressant konstant)."
   ]
  },
  {
   "cell_type": "code",
   "execution_count": null,
   "id": "0822a106-242b-4d72-a391-0e5c89bf6c0e",
   "metadata": {},
   "outputs": [],
   "source": [
    "I_tot_norm = np.abs(I_tot/np.max(I_tot))\n",
    "\n",
    "plt.figure()\n",
    "plt.plot(u, I_tot_norm)\n",
    "plt.title('Tidsmedelvärdet av intensiteten (med ' + str(iterationer) + ' iterationer/koherenstider)' )\n",
    "plt.xlabel ('Avstånd längs u-axeln [m]')\n",
    "plt.ylabel('Intensitet [arb. unit]')\n",
    "\n",
    "plt.ylim([0, 1.1])"
   ]
  },
  {
   "cell_type": "markdown",
   "id": "288331ef-f1a9-4ce8-9b31-a6bee7440457",
   "metadata": {},
   "source": [
    "#### **Är intensitetens variation längs $u$-axeln vad du förväntar dig?**"
   ]
  },
  {
   "cell_type": "markdown",
   "id": "cec662a8-7e69-43cd-852c-ecab88b49457",
   "metadata": {},
   "source": [
    "*SVARA HÄR*"
   ]
  },
  {
   "cell_type": "markdown",
   "id": "da7835ec-aaf0-418b-a109-5a4c3186a716",
   "metadata": {},
   "source": [
    "# Uppgift c\n",
    "\n",
    "#### Kolla att du samplat punktkällorna tillräckligt tätt för att representera stjärnan på ett bra sätt. Gör detta genom att kolla att du får liknande resultat som i **(a)** även om du använder ett väsentligt annorlunda antal punktkällor."
   ]
  },
  {
   "cell_type": "code",
   "execution_count": null,
   "id": "64fd5252-69b5-4dd5-bfe4-5df5483ea2af",
   "metadata": {},
   "outputs": [],
   "source": [
    "# KOD"
   ]
  },
  {
   "cell_type": "markdown",
   "id": "4e3ca35a",
   "metadata": {},
   "source": [
    "# Uppgift d\n",
    "\n",
    "#### Om spatiella koherenslängden $𝑙_𝑠$ i detta specialfall (d.v.s. cirkulär inkoherent ljuskälla) mer precist definieras som avståndet mellan två punkter på $u$-axeln då korrelationen mellan deras fält blir noll (första nollstället), vad ger din simulering att $const$ har för värde i formeln: $$l_s = const \\frac{\\lambda}{D_{källa}} L$$\n",
    "\n",
    "#### Testa också ett annat värde på diametern hos ljuskällan, $D_{källa}$ för att bekräfta formeln."
   ]
  },
  {
   "cell_type": "code",
   "execution_count": null,
   "id": "e3a2e217-9f23-4561-9c6a-11c940561e20",
   "metadata": {},
   "outputs": [],
   "source": [
    "# KOD"
   ]
  },
  {
   "cell_type": "markdown",
   "id": "e9fcfcd0-2a2e-489a-8d48-05bec63c2c8b",
   "metadata": {},
   "source": [
    "# Uppgift e\n"
   ]
  },
  {
   "cell_type": "code",
   "execution_count": null,
   "id": "a921a0d3-5c10-431b-928e-39c16f695258",
   "metadata": {},
   "outputs": [],
   "source": [
    "# koherenslängden l_s = ? är utläst från bilden i texten till HUPP 4 \n",
    "# första nollstället när ränderna är svåra att urskilja, finns två ställen\n",
    "# på bilden i HUPP-beskrivningen\n",
    "D_star_e = ; \n",
    "# D_star i antal soldiametrar\n",
    "D_star_e/(2*696342e3)\n"
   ]
  },
  {
   "cell_type": "markdown",
   "id": "70928340-7499-45a6-8447-3aa9f50235bb",
   "metadata": {},
   "source": [
    "#### **Vad fick man för värde på stjärndiametern? Jämför med solens diameter.**\n"
   ]
  },
  {
   "cell_type": "markdown",
   "id": "e6844f71-130b-45de-88e6-6140ded679ae",
   "metadata": {},
   "source": [
    "*SVARA HÄR*\n"
   ]
  },
  {
   "cell_type": "markdown",
   "id": "784f34c3-5b37-4b88-abe4-53d1b971547f",
   "metadata": {},
   "source": [
    "# Uppgift f\n",
    "\n",
    "#### Visa att de upprörda fysikerna hade fel! Återanvänd koden från **(b)**"
   ]
  },
  {
   "cell_type": "code",
   "execution_count": null,
   "id": "c023c959-5325-462d-aa5d-517126aa0811",
   "metadata": {},
   "outputs": [],
   "source": [
    "# kod"
   ]
  }
 ],
 "metadata": {
  "kernelspec": {
   "display_name": "Python 3 (ipykernel)",
   "language": "python",
   "name": "python3"
  },
  "language_info": {
   "codemirror_mode": {
    "name": "ipython",
    "version": 3
   },
   "file_extension": ".py",
   "mimetype": "text/x-python",
   "name": "python",
   "nbconvert_exporter": "python",
   "pygments_lexer": "ipython3",
   "version": "3.12.4"
  }
 },
 "nbformat": 4,
 "nbformat_minor": 5
}
